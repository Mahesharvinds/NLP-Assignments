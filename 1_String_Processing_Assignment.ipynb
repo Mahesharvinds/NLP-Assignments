{
  "nbformat": 4,
  "nbformat_minor": 0,
  "metadata": {
    "colab": {
      "name": "1. String_Processing_Assignment.ipynb",
      "provenance": [],
      "collapsed_sections": [],
      "include_colab_link": true
    },
    "kernelspec": {
      "display_name": "Python 3",
      "language": "python",
      "name": "python3"
    },
    "language_info": {
      "codemirror_mode": {
        "name": "ipython",
        "version": 3
      },
      "file_extension": ".py",
      "mimetype": "text/x-python",
      "name": "python",
      "nbconvert_exporter": "python",
      "pygments_lexer": "ipython3",
      "version": "3.7.4"
    },
    "toc": {
      "base_numbering": 1,
      "nav_menu": {},
      "number_sections": false,
      "sideBar": true,
      "skip_h1_title": false,
      "title_cell": "Table of Contents",
      "title_sidebar": "Contents",
      "toc_cell": false,
      "toc_position": {},
      "toc_section_display": true,
      "toc_window_display": false
    },
    "varInspector": {
      "cols": {
        "lenName": 16,
        "lenType": 16,
        "lenVar": 40
      },
      "kernels_config": {
        "python": {
          "delete_cmd_postfix": "",
          "delete_cmd_prefix": "del ",
          "library": "var_list.py",
          "varRefreshCmd": "print(var_dic_list())"
        },
        "r": {
          "delete_cmd_postfix": ") ",
          "delete_cmd_prefix": "rm(",
          "library": "var_list.r",
          "varRefreshCmd": "cat(var_dic_list()) "
        }
      },
      "types_to_exclude": [
        "module",
        "function",
        "builtin_function_or_method",
        "instance",
        "_Feature"
      ],
      "window_display": false
    }
  },
  "cells": [
    {
      "cell_type": "markdown",
      "metadata": {
        "id": "view-in-github",
        "colab_type": "text"
      },
      "source": [
        "<a href=\"https://colab.research.google.com/github/Mahesharvinds/NLP-Assignments/blob/main/1_String_Processing_Assignment.ipynb\" target=\"_parent\"><img src=\"https://colab.research.google.com/assets/colab-badge.svg\" alt=\"Open In Colab\"/></a>"
      ]
    },
    {
      "cell_type": "markdown",
      "metadata": {
        "id": "GPoPsLJp17DN"
      },
      "source": [
        "# Assignment 1\n",
        "# Basic String Processing"
      ]
    },
    {
      "cell_type": "markdown",
      "metadata": {
        "id": "lnXfncRM2Czg"
      },
      "source": [
        "**Note:** *Before Attempting this assignment please go through the Hands On Code, that has been uploaded in LMS*"
      ]
    },
    {
      "cell_type": "markdown",
      "metadata": {
        "id": "PREYUtQd3WGd"
      },
      "source": [
        "## Task 1:\n",
        "\n",
        "**Print a string  that displays *'NLP stands for Natural Language Processing'* using the variables provided.**\n",
        "\n",
        "Make use of string formatting or f-strings"
      ]
    },
    {
      "cell_type": "code",
      "metadata": {
        "id": "PqWQZJVF1iEq"
      },
      "source": [
        "abbr = 'NLP'\n",
        "full_text = 'Natural Language Processing'"
      ],
      "execution_count": null,
      "outputs": []
    },
    {
      "cell_type": "code",
      "metadata": {
        "colab": {
          "base_uri": "https://localhost:8080/"
        },
        "id": "pMCvIHNJ4ZM4",
        "outputId": "e842af14-3e18-4b90-a576-8cab7bbd4aba"
      },
      "source": [
        "#Enter your code here:\n",
        "print(\"{0} stands for {1}\".format(abbr,full_text) ); #String-Formatting\n",
        "print(f\"{abbr} stands for {full_text}\" ); #f-string"
      ],
      "execution_count": null,
      "outputs": [
        {
          "output_type": "stream",
          "text": [
            "NLP stands for Natural Language Processing\n",
            "NLP stands for Natural Language Processing\n"
          ],
          "name": "stdout"
        }
      ]
    },
    {
      "cell_type": "markdown",
      "metadata": {
        "id": "Jjml9YKv44pD"
      },
      "source": [
        "## Task 2:\n",
        "\n",
        "**Create a function which takes `N` as an argument and return a list repeating the word <i>'NLP'</i> for `N` number of times as a string**\n",
        "\n",
        "*Suppose you create a function `repeat`*\n",
        "> Function Call: `repeat('NLP', 3)`<br>\n",
        ">  O/P: `'NLPNLPNLP'` "
      ]
    },
    {
      "cell_type": "code",
      "metadata": {
        "colab": {
          "base_uri": "https://localhost:8080/"
        },
        "id": "-DzLvTIN40_9",
        "outputId": "66719c14-4523-4368-ec37-deda598ff8b8"
      },
      "source": [
        "#Enter your code here:\n",
        "def repeat( str ):\n",
        "  return str * 3;\n",
        "print(repeat('NLP'));\n"
      ],
      "execution_count": null,
      "outputs": [
        {
          "output_type": "stream",
          "text": [
            "NLPNLPNLP\n"
          ],
          "name": "stdout"
        }
      ]
    },
    {
      "cell_type": "markdown",
      "metadata": {
        "id": "dwgx167r_DUh"
      },
      "source": [
        "## Task 3:\n",
        "**From the string variable provided extract Day, Month, year using indexing and print it.**"
      ]
    },
    {
      "cell_type": "code",
      "metadata": {
        "colab": {
          "base_uri": "https://localhost:8080/"
        },
        "id": "2NxV_sn0Dyom",
        "outputId": "003898e1-0f2b-48f9-b625-0c4ba1180699"
      },
      "source": [
        "string= \"04-August-2019\"\n",
        "#string= \"04-September-2019\"\n",
        "#Enter your code here:\n",
        "day = string[0:2];\n",
        "month = string[3:-5]; #Works for All Months\n",
        "year = string[-4:];\n",
        "print(\"Day \" + day);\n",
        "print(\"Month \" + month);\n",
        "print(\"Year \" + year);"
      ],
      "execution_count": null,
      "outputs": [
        {
          "output_type": "stream",
          "text": [
            "Day 04\n",
            "Month August\n",
            "Year 2019\n"
          ],
          "name": "stdout"
        }
      ]
    },
    {
      "cell_type": "markdown",
      "metadata": {
        "id": "sZTaTzMHRuid"
      },
      "source": [
        "## Task 4:\n",
        "\n",
        "**Extract Supervisedlearning from the following string.**"
      ]
    },
    {
      "cell_type": "code",
      "metadata": {
        "colab": {
          "base_uri": "https://localhost:8080/",
          "height": 35
        },
        "id": "VIFJQLgDQ7Dj",
        "outputId": "b8b3d6c8-40e5-48aa-8233-621aaac3d4f1"
      },
      "source": [
        "string = \"SSuuppeerrvviisseeddlleeaarrnniinng\"\n",
        "#Enter your code here:\n",
        "string[::2]"
      ],
      "execution_count": null,
      "outputs": [
        {
          "output_type": "execute_result",
          "data": {
            "application/vnd.google.colaboratory.intrinsic+json": {
              "type": "string"
            },
            "text/plain": [
              "'Supervisedlearning'"
            ]
          },
          "metadata": {
            "tags": []
          },
          "execution_count": 16
        }
      ]
    },
    {
      "cell_type": "markdown",
      "metadata": {
        "id": "NhvETJ8SgoWW"
      },
      "source": [
        "## Task 5:\n",
        "\n",
        "**Navigate to this drive [link](https://drive.google.com/file/d/1NCn-yQq6s85KWAgWPnd1JTltGxZf475j/view?usp=sharing) and download owlcreek.txt file and read it into a python string. Then print the length of the string.**"
      ]
    },
    {
      "cell_type": "code",
      "metadata": {
        "colab": {
          "base_uri": "https://localhost:8080/"
        },
        "id": "O9cIRY8fX2GB",
        "outputId": "257572a2-0cee-49be-d69c-2109494bac38"
      },
      "source": [
        "#Enter your code here:\n",
        "owlcreek_file = open('owlcreek.txt')\n",
        "owlcreek_string = owlcreek_file.read()\n",
        "print(len(owlcreek_string))\n",
        "owlcreek_file.close()"
      ],
      "execution_count": 2,
      "outputs": [
        {
          "output_type": "stream",
          "text": [
            "21344\n"
          ],
          "name": "stdout"
        }
      ]
    },
    {
      "cell_type": "markdown",
      "metadata": {
        "id": "-OnivMMBp6El"
      },
      "source": [
        "## Task 6:\n",
        "\n",
        "**In the text after every full stop (.) there are two trailling spaces, reduce it to single trailling space and save the changed string to a new file \"new_owlcreek.txt\"**"
      ]
    },
    {
      "cell_type": "code",
      "metadata": {
        "colab": {
          "base_uri": "https://localhost:8080/"
        },
        "id": "9UfMgU0Lq4Tr",
        "outputId": "a88c4e94-1a99-4b53-edd5-1e130a92e026"
      },
      "source": [
        "#Enter your code here:\n",
        "new_owlcreek_string = owlcreek_string.replace(\".  \",\". \")\n",
        "print(len(new_owlcreek_string))\n",
        "new_owlcreek_file = open('new_owlcreek.txt','w+')\n",
        "new_owlcreek_file.write(new_owlcreek_string)\n",
        "new_owlcreek_file.close()"
      ],
      "execution_count": 3,
      "outputs": [
        {
          "output_type": "stream",
          "text": [
            "21211\n"
          ],
          "name": "stdout"
        }
      ]
    },
    {
      "cell_type": "markdown",
      "metadata": {
        "id": "g9kQAfCXzIZf"
      },
      "source": [
        "## Task 7:\n",
        "\n",
        "**The text is divided into three parts (I, II, III). In the text you can see a 'I' character before starting of first part and similarly 'II' and 'III' for 2nd and 3rd part.**\n",
        "\n",
        "**Create three strings dividing these three parts as (part_1, part_2, part_3) and print their character length in the format shown below.**"
      ]
    },
    {
      "cell_type": "code",
      "metadata": {
        "colab": {
          "base_uri": "https://localhost:8080/"
        },
        "id": "5u_rh_tm2FM7",
        "outputId": "c8c16687-c304-4b98-a99c-26aa20e77ef3"
      },
      "source": [
        "#Enter your code here:\n",
        "part_one_start_index = new_owlcreek_string.index(\"I\\n\");\n",
        "part_two_start_index = new_owlcreek_string.index(\"II\\n\");\n",
        "part_three_start_index = new_owlcreek_string.index(\"III\\n\");\n",
        "\n",
        "part_1 = new_owlcreek_string[part_one_start_index:part_two_start_index];\n",
        "part_2 = new_owlcreek_string[part_two_start_index:part_three_start_index];\n",
        "part_3 = new_owlcreek_string[part_three_start_index:];\n",
        "\n",
        "print(\"Length of PART I    : \" + str(len(part_1)))\n",
        "print(\"Length of PART II   : \" + str(len(part_2)))\n",
        "print(\"Length of PART III  : \" + str(len(part_3)))"
      ],
      "execution_count": 4,
      "outputs": [
        {
          "output_type": "stream",
          "text": [
            "Length of PART I    : 6015\n",
            "Length of PART II   : 2748\n",
            "Length of PART III  : 12394\n"
          ],
          "name": "stdout"
        }
      ]
    },
    {
      "cell_type": "markdown",
      "metadata": {
        "id": "1JtWP3LA_409"
      },
      "source": [
        "## Task 8:\n",
        "\n",
        "**Extract all the sentences within quotes(\") in the part_2 that you created in the last task and save it to a variable quotes_part_2**\n",
        "\n",
        "**Eg. \"They will not do that again,\"**\n",
        "\n",
        "Hint: Make use of Regular Expressions"
      ]
    },
    {
      "cell_type": "code",
      "metadata": {
        "colab": {
          "base_uri": "https://localhost:8080/"
        },
        "id": "0dWrZ0Ym_mMM",
        "outputId": "b2aa29f3-5c0b-4e98-eeab-9f578f43e763"
      },
      "source": [
        "#Enter your code here:\n",
        "import re\n",
        "regex = r'\"[^\"]*\"';\n",
        "sentences = re.findall(regex,part_2)\n",
        "for i in sentences :\n",
        "  print(i)\n",
        "  print(\"----------------------------------\")"
      ],
      "execution_count": 5,
      "outputs": [
        {
          "output_type": "stream",
          "text": [
            "\"The Yanks are repairing the railroads,\"\n",
            "----------------------------------\n",
            "\"and are\n",
            "getting ready for another advance. They have reached the Owl Creek\n",
            "bridge, put it in order and built a stockade on the north bank. The\n",
            "commandant has issued an order, which is posted everywhere, declaring\n",
            "that any civilian caught interfering with the railroad, its bridges,\n",
            "tunnels, or trains will be summarily hanged. I saw the order.\"\n",
            "----------------------------------\n",
            "\"How far is it to the Owl Creek bridge?\"\n",
            "----------------------------------\n",
            "\"About thirty miles.\"\n",
            "----------------------------------\n",
            "\"Is there no force on this side of the creek?\"\n",
            "----------------------------------\n",
            "\"Only a picket post half a mile out, on the railroad, and a single\n",
            "sentinel at this end of the bridge.\"\n",
            "----------------------------------\n",
            "\"Suppose a man--a civilian and student of hanging--should elude the\n",
            "picket post and perhaps get the better of the sentinel,\"\n",
            "----------------------------------\n",
            "\"what could he accomplish?\"\n",
            "----------------------------------\n",
            "\"I was there a month ago,\"\n",
            "----------------------------------\n",
            "\"I\n",
            "observed that the flood of last winter had lodged a great quantity of\n",
            "driftwood against the wooden pier at this end of the bridge. It is\n",
            "now dry and would burn like tinder.\"\n",
            "----------------------------------\n"
          ],
          "name": "stdout"
        }
      ]
    },
    {
      "cell_type": "markdown",
      "metadata": {
        "id": "7Otn-v389nZs"
      },
      "source": [
        "## Task 9:\n",
        "\n",
        "**Convert part_1 string to lowercase using string function**"
      ]
    },
    {
      "cell_type": "code",
      "metadata": {
        "colab": {
          "base_uri": "https://localhost:8080/"
        },
        "id": "TkByCUoG9m3S",
        "outputId": "18ff87b5-920b-41f5-f19e-106791f2386b"
      },
      "source": [
        "#Enter your code here:\n",
        "print(part_1[0:200])\n",
        "lower_part_1 = part_1.lower();\n",
        "print(lower_part_1[0:200])"
      ],
      "execution_count": 20,
      "outputs": [
        {
          "output_type": "stream",
          "text": [
            "I\n",
            "\n",
            "A man stood upon a railroad bridge in northern Alabama, looking down\n",
            "into the swift water twenty feet below. The man's hands were behind\n",
            "his back, the wrists bound with a cord. A rope closely encir\n",
            "i\n",
            "\n",
            "a man stood upon a railroad bridge in northern alabama, looking down\n",
            "into the swift water twenty feet below. the man's hands were behind\n",
            "his back, the wrists bound with a cord. a rope closely encir\n"
          ],
          "name": "stdout"
        }
      ]
    },
    {
      "cell_type": "markdown",
      "metadata": {
        "id": "b7HugWFZ8E-6"
      },
      "source": [
        "## Task 10:\n",
        "\n",
        "**Remove all the punctuation marks from the words**\n",
        "\n",
        "Hint: Make use of string.punctuation"
      ]
    },
    {
      "cell_type": "code",
      "metadata": {
        "id": "PHeGvdjgAIjN",
        "colab": {
          "base_uri": "https://localhost:8080/"
        },
        "outputId": "4265fc03-3c16-4d78-bf26-6343a80898f8"
      },
      "source": [
        "#Enter your code here:\n",
        "import string\n",
        "punctuations = string.punctuation\n",
        "punctuations\n",
        "for charac in lower_part_1 :\n",
        "    if charac in punctuations :\n",
        "        lower_part_1 = lower_part_1.replace(charac,\"\");\n",
        "print(lower_part_1[0:200])"
      ],
      "execution_count": 19,
      "outputs": [
        {
          "output_type": "stream",
          "text": [
            "i\n",
            "\n",
            "a man stood upon a railroad bridge in northern alabama looking down\n",
            "into the swift water twenty feet below the mans hands were behind\n",
            "his back the wrists bound with a cord a rope closely encircled \n"
          ],
          "name": "stdout"
        }
      ]
    },
    {
      "cell_type": "markdown",
      "metadata": {
        "id": "O7fk0r_9s58W"
      },
      "source": [
        "## Task 11:\n",
        "\n",
        "**Split the lowercase part_1 string into words, save it to a variable called words_list and then print the number of words or length of the list.**"
      ]
    },
    {
      "cell_type": "code",
      "metadata": {
        "id": "vB1cbe3C1dTi",
        "colab": {
          "base_uri": "https://localhost:8080/"
        },
        "outputId": "349c76f3-e3ba-4051-8a98-eb6d917288f4"
      },
      "source": [
        "#Enter your code here:\n",
        "words_list = lower_part_1.split()\n",
        "print(len(words_list))"
      ],
      "execution_count": null,
      "outputs": [
        {
          "output_type": "stream",
          "text": [
            "1058\n"
          ],
          "name": "stdout"
        }
      ]
    },
    {
      "cell_type": "markdown",
      "metadata": {
        "id": "SSeYX77yI1tW"
      },
      "source": [
        "## Task 12\n",
        "\n",
        "**Download this Business_Proposal.pdf file from this [link](https://drive.google.com/file/d/1hzwRSz4R8wywq3PNkLJCsn0DGTVKLkgR/view?usp=sharing) and put it in your current working directory.**\n",
        "\n",
        "**Now read the pdf file. Check the second page it has name of the authors, From this page extract the Name , position and Email Id and put it into a DataFrame contacts shown below**"
      ]
    },
    {
      "cell_type": "code",
      "metadata": {
        "id": "PcI7VNx1pdPm"
      },
      "source": [
        "!pip install PyPDF2"
      ],
      "execution_count": null,
      "outputs": []
    },
    {
      "cell_type": "code",
      "metadata": {
        "id": "Rgv6_DiQ0bdK",
        "colab": {
          "base_uri": "https://localhost:8080/"
        },
        "outputId": "145d1adb-b683-4d17-96e7-70ca8b28f413"
      },
      "source": [
        "import PyPDF2\n",
        "\n",
        "# Open the file as a binary object\n",
        "pdf_file = open('Business_Proposal.pdf','rb');\n",
        "\n",
        "# Use PyPDF2 to read the text of the file\n",
        "pdf_file_reader = PyPDF2.PdfFileReader(pdf_file);\n",
        "\n",
        "# Get the text from page 2 \n",
        "page_2 = pdf_file_reader.getPage(1);\n",
        "page_2_text = page_2.extractText();\n",
        "\n",
        "# Close the file\n",
        "pdf_file.close();\n",
        "\n",
        "# Print the contents of page_two_text\n",
        "print(page_2_text)"
      ],
      "execution_count": null,
      "outputs": [
        {
          "output_type": "stream",
          "text": [
            "AUTHORS:\n",
            " \n",
            "Amy Baker, Finance Chair, x345, abaker@ourcompany.com\n",
            " \n",
            "Chris Donaldson, Accounting Dir., x621, cdonaldson@ourcompany.com\n",
            " \n",
            "Erin Freeman, Sr. VP, x879, efreeman@ourcompany.com\n",
            " \n",
            "\n"
          ],
          "name": "stdout"
        }
      ]
    },
    {
      "cell_type": "code",
      "metadata": {
        "id": "urGBdMa01Rcq",
        "colab": {
          "base_uri": "https://localhost:8080/",
          "height": 142
        },
        "outputId": "db95e55d-c627-43b9-c1b4-f7756de79792"
      },
      "source": [
        "import pandas as pd\n",
        "\n",
        "#Split the list using '\\n \\n'\n",
        "page_2_sentences = page_2_text.split('\\n \\n')\n",
        "\n",
        "#Remove first and last element from the list\n",
        "page_2_sentences.pop() #removes last element\n",
        "del page_2_sentences[0] #removes first element\n",
        "\n",
        "# Iterate over the list and split the list using ','\n",
        "names = []\n",
        "positions = []\n",
        "unknown = []\n",
        "email = []\n",
        "for author in page_2_sentences :\n",
        "  author_details = author.split(',');\n",
        "  names.append(author_details[0])\n",
        "  positions.append(author_details[1])\n",
        "  unknown.append(author_details[2])\n",
        "  email.append(author_details[3])\n",
        "\n",
        "author_dict = {}\n",
        "author_dict[\"Name\"] = names\n",
        "author_dict[\"Designation\"] = positions\n",
        "author_dict[\"Unknown\"] = unknown\n",
        "author_dict[\"Email\"] = email\n",
        "\n",
        "# Pass in the Data into the DataFrame \n",
        "df = pd.DataFrame(author_dict)\n",
        "\n",
        "# print the DataFrame\n",
        "df"
      ],
      "execution_count": null,
      "outputs": [
        {
          "output_type": "execute_result",
          "data": {
            "text/html": [
              "<div>\n",
              "<style scoped>\n",
              "    .dataframe tbody tr th:only-of-type {\n",
              "        vertical-align: middle;\n",
              "    }\n",
              "\n",
              "    .dataframe tbody tr th {\n",
              "        vertical-align: top;\n",
              "    }\n",
              "\n",
              "    .dataframe thead th {\n",
              "        text-align: right;\n",
              "    }\n",
              "</style>\n",
              "<table border=\"1\" class=\"dataframe\">\n",
              "  <thead>\n",
              "    <tr style=\"text-align: right;\">\n",
              "      <th></th>\n",
              "      <th>Name</th>\n",
              "      <th>Designation</th>\n",
              "      <th>Unknown</th>\n",
              "      <th>Email</th>\n",
              "    </tr>\n",
              "  </thead>\n",
              "  <tbody>\n",
              "    <tr>\n",
              "      <th>0</th>\n",
              "      <td>Amy Baker</td>\n",
              "      <td>Finance Chair</td>\n",
              "      <td>x345</td>\n",
              "      <td>abaker@ourcompany.com</td>\n",
              "    </tr>\n",
              "    <tr>\n",
              "      <th>1</th>\n",
              "      <td>Chris Donaldson</td>\n",
              "      <td>Accounting Dir.</td>\n",
              "      <td>x621</td>\n",
              "      <td>cdonaldson@ourcompany.com</td>\n",
              "    </tr>\n",
              "    <tr>\n",
              "      <th>2</th>\n",
              "      <td>Erin Freeman</td>\n",
              "      <td>Sr. VP</td>\n",
              "      <td>x879</td>\n",
              "      <td>efreeman@ourcompany.com</td>\n",
              "    </tr>\n",
              "  </tbody>\n",
              "</table>\n",
              "</div>"
            ],
            "text/plain": [
              "              Name       Designation Unknown                       Email\n",
              "0        Amy Baker     Finance Chair    x345       abaker@ourcompany.com\n",
              "1  Chris Donaldson   Accounting Dir.    x621   cdonaldson@ourcompany.com\n",
              "2     Erin Freeman            Sr. VP    x879     efreeman@ourcompany.com"
            ]
          },
          "metadata": {
            "tags": []
          },
          "execution_count": 31
        }
      ]
    },
    {
      "cell_type": "markdown",
      "metadata": {
        "id": "bNMsQQf_4scW"
      },
      "source": [
        "## Task 13\n",
        "\n",
        "**Run the below code to import the Amazon reviews Dataset.**"
      ]
    },
    {
      "cell_type": "code",
      "metadata": {
        "id": "PXYv89yDvck3",
        "colab": {
          "base_uri": "https://localhost:8080/"
        },
        "outputId": "9e5cfa5a-326c-4e45-e28a-4ae0f1a91240"
      },
      "source": [
        "!pip install wget"
      ],
      "execution_count": null,
      "outputs": [
        {
          "output_type": "stream",
          "text": [
            "Collecting wget\n",
            "  Downloading https://files.pythonhosted.org/packages/47/6a/62e288da7bcda82b935ff0c6cfe542970f04e29c756b0e147251b2fb251f/wget-3.2.zip\n",
            "Building wheels for collected packages: wget\n",
            "  Building wheel for wget (setup.py) ... \u001b[?25l\u001b[?25hdone\n",
            "  Created wheel for wget: filename=wget-3.2-cp36-none-any.whl size=9681 sha256=94eaf13bb96d5c16f6039816d6e15ca8faf636d62eabab6a9e6757eba6db8420\n",
            "  Stored in directory: /root/.cache/pip/wheels/40/15/30/7d8f7cea2902b4db79e3fea550d7d7b85ecb27ef992b618f3f\n",
            "Successfully built wget\n",
            "Installing collected packages: wget\n",
            "Successfully installed wget-3.2\n"
          ],
          "name": "stdout"
        }
      ]
    },
    {
      "cell_type": "code",
      "metadata": {
        "id": "6y5Ed7ogVZpo"
      },
      "source": [
        "import wget\n",
        "import pandas as pd\n",
        "wget.download('http://snap.stanford.edu/data/amazon/productGraph/categoryFiles/reviews_Cell_Phones_and_Accessories_5.json.gz')\n",
        "df = pd.read_json('reviews_Cell_Phones_and_Accessories_5.json.gz', lines=True, compression='gzip')"
      ],
      "execution_count": null,
      "outputs": []
    },
    {
      "cell_type": "markdown",
      "metadata": {
        "id": "agP4bxkm1pZR"
      },
      "source": [
        "**Check for the existence of NaN values in a reviewText columns**"
      ]
    },
    {
      "cell_type": "code",
      "metadata": {
        "id": "PmDFpMdX2BZi",
        "colab": {
          "base_uri": "https://localhost:8080/"
        },
        "outputId": "eb3e9716-20d7-4e19-ba2a-54283035f1b2"
      },
      "source": [
        "#Enter your code here\n",
        "df.isnull().values.any()"
      ],
      "execution_count": null,
      "outputs": [
        {
          "output_type": "execute_result",
          "data": {
            "text/plain": [
              "True"
            ]
          },
          "metadata": {
            "tags": []
          },
          "execution_count": 4
        }
      ]
    },
    {
      "cell_type": "markdown",
      "metadata": {
        "id": "7oeUzQcT2YFK"
      },
      "source": [
        "## Task 14\n",
        "\n",
        "**Get the word count in each datapoint and create a new column 'word_count' and then print the head of reviewText and Word_Count**"
      ]
    },
    {
      "cell_type": "code",
      "metadata": {
        "id": "sUY9pzON2PVK",
        "colab": {
          "base_uri": "https://localhost:8080/"
        },
        "outputId": "47bb04b3-3be6-446e-d134-a485c31dc624"
      },
      "source": [
        "# Enter your code here\n",
        "reviewText = df.loc[:, ['reviewText']];\n",
        "word_count = []\n",
        "for index, row in reviewText.iterrows() :\n",
        "   review = row[\"reviewText\"];\n",
        "   word_count.append(len(review.split()));\n",
        "df[\"Word_Count\"] = word_count\n",
        "print(df.loc[:,['reviewText','Word_Count']].head())"
      ],
      "execution_count": null,
      "outputs": [
        {
          "output_type": "stream",
          "text": [
            "                                          reviewText  Word_Count\n",
            "0  They look good and stick good! I just don't li...          37\n",
            "1  These stickers work like the review says they ...          32\n",
            "2  These are awesome and make my phone look so st...          34\n",
            "3  Item arrived in great time and was in perfect ...          51\n",
            "4  awesome! stays on, and looks great. can be use...          23\n"
          ],
          "name": "stdout"
        }
      ]
    },
    {
      "cell_type": "markdown",
      "metadata": {
        "id": "nstP9j1-4g9v"
      },
      "source": [
        "## Task 15\n",
        "\n",
        "**Lowercase all the texts is reviewText and print the head of reviews**"
      ]
    },
    {
      "cell_type": "code",
      "metadata": {
        "id": "5zAYfed732mg",
        "colab": {
          "base_uri": "https://localhost:8080/"
        },
        "outputId": "4f949077-72cc-412a-9dd5-adfbb62e1004"
      },
      "source": [
        "#Enter your code here\n",
        "reviews = df.loc[:, ['reviewText']];\n",
        "for i in range(len(reviews)):\n",
        "     lowerReview = reviews.iloc[i,0].lower()\n",
        "     reviews.iloc[i,0] = lowerReview\n",
        "df['reviewText'] = reviews['reviewText']\n",
        "print(df.loc[:,['reviewText']].head())"
      ],
      "execution_count": null,
      "outputs": [
        {
          "output_type": "stream",
          "text": [
            "                                          reviewText\n",
            "0  they look good and stick good! i just don't li...\n",
            "1  these stickers work like the review says they ...\n",
            "2  these are awesome and make my phone look so st...\n",
            "3  item arrived in great time and was in perfect ...\n",
            "4  awesome! stays on, and looks great. can be use...\n"
          ],
          "name": "stdout"
        }
      ]
    },
    {
      "cell_type": "markdown",
      "metadata": {
        "id": "YVVaSfvb7Rih"
      },
      "source": [
        "## Task 16\n",
        "\n",
        "**Remove all the punctuations from the reviewText Column and print the head of reviews**"
      ]
    },
    {
      "cell_type": "code",
      "metadata": {
        "id": "2lf_zFqP6xN0",
        "colab": {
          "base_uri": "https://localhost:8080/"
        },
        "outputId": "cd9ee0ad-27c2-40f7-c880-2da99a384f9b"
      },
      "source": [
        "#Enter your code here\n",
        "import re\n",
        "reviews = df.loc[:, ['reviewText']];\n",
        "for i in range(len(reviews)):\n",
        "     review = reviews.iloc[i,0]\n",
        "     reviews.iloc[i,0] = re.sub(r'[^\\d\\w\\s]', '', review)\n",
        "df['reviewText'] = reviews['reviewText']\n",
        "print(df.loc[:,['reviewText']].head())"
      ],
      "execution_count": null,
      "outputs": [
        {
          "output_type": "stream",
          "text": [
            "                                          reviewText\n",
            "0  they look good and stick good i just dont like...\n",
            "1  these stickers work like the review says they ...\n",
            "2  these are awesome and make my phone look so st...\n",
            "3  item arrived in great time and was in perfect ...\n",
            "4  awesome stays on and looks great can be used o...\n"
          ],
          "name": "stdout"
        }
      ]
    },
    {
      "cell_type": "code",
      "metadata": {
        "colab": {
          "base_uri": "https://localhost:8080/"
        },
        "id": "APOHKBGhLKgY",
        "outputId": "feaef466-8fa4-4f59-e7f5-9ab2f300649f"
      },
      "source": [
        "#Removing Punctuation without Regular Expressions\n",
        "punc = '''!()-[]{};:'\"\\,<>./?@#$%^&*_~'''\n",
        "str_with_punc = \"Iam a SL Student! I study 'NLP', 'DS', 'ML' etc., on a daily basis\";\n",
        "for i in str_with_punc :\n",
        "  if i in punc :\n",
        "    str_with_punc = str_with_punc.replace(i,\"\");\n",
        "print(str_with_punc);"
      ],
      "execution_count": null,
      "outputs": [
        {
          "output_type": "stream",
          "text": [
            "Iam a SL Student I study NLP DS ML etc on a daily basis\n"
          ],
          "name": "stdout"
        }
      ]
    },
    {
      "cell_type": "markdown",
      "metadata": {
        "id": "zxsExKWj9ZwC"
      },
      "source": [
        "## Task 17\n",
        "\n",
        "**Split the text in reviewText list of words and print the head of reviews**"
      ]
    },
    {
      "cell_type": "code",
      "metadata": {
        "id": "y48mhsuG9XW2",
        "colab": {
          "base_uri": "https://localhost:8080/"
        },
        "outputId": "6ce69c8d-4e8a-4f0c-80d6-2a359abc1999"
      },
      "source": [
        "#Enter your code here\n",
        "reviews = df.loc[:, ['reviewText']];\n",
        "for i in range(len(reviews)):\n",
        "    review = reviews.iloc[i,0]\n",
        "    reviews.iloc[i,0] = review.split()\n",
        "df['reviewText'] = reviews['reviewText']\n",
        "print(df.loc[:,['reviewText']].head())"
      ],
      "execution_count": null,
      "outputs": [
        {
          "output_type": "stream",
          "text": [
            "                                          reviewText\n",
            "0  [they, look, good, and, stick, good, i, just, ...\n",
            "1  [these, stickers, work, like, the, review, say...\n",
            "2  [these, are, awesome, and, make, my, phone, lo...\n",
            "3  [item, arrived, in, great, time, and, was, in,...\n",
            "4  [awesome, stays, on, and, looks, great, can, b...\n"
          ],
          "name": "stdout"
        }
      ]
    },
    {
      "cell_type": "markdown",
      "metadata": {
        "id": "rlk9Bd_K-EG1"
      },
      "source": [
        "## Task 18\n",
        "\n",
        "**Remove all the words that contain numbers in reviewText column and print the head of reviews**"
      ]
    },
    {
      "cell_type": "code",
      "metadata": {
        "id": "AWShgZBx9_ms",
        "colab": {
          "base_uri": "https://localhost:8080/"
        },
        "outputId": "66d348f9-4323-4a1c-96b2-02679e506089"
      },
      "source": [
        "#Enter your code here\n",
        "import re\n",
        "reviews = df.loc[:, ['reviewText']];\n",
        "print(reviews)\n",
        "for i in range(len(reviews)) :\n",
        "    review = reviews.iloc[i,0]\n",
        "    for word in review:\n",
        "        if not word.isalpha():\n",
        "            review.remove(word); \n",
        "    reviews.iloc[i,0] = review;\n",
        "df['reviewText'] = reviews['reviewText']\n",
        "print(df.loc[:,['reviewText']].head())"
      ],
      "execution_count": null,
      "outputs": [
        {
          "output_type": "stream",
          "text": [
            "                                               reviewText\n",
            "0       [they, look, good, and, stick, good, i, just, ...\n",
            "1       [these, stickers, work, like, the, review, say...\n",
            "2       [these, are, awesome, and, make, my, phone, lo...\n",
            "3       [item, arrived, in, great, time, and, was, in,...\n",
            "4       [awesome, stays, on, and, looks, great, can, b...\n",
            "...                                                   ...\n",
            "194434  [works, great, just, like, my, original, one, ...\n",
            "194435  [great, product, great, packaging, high, quali...\n",
            "194436  [this, is, a, great, cable, just, as, good, as...\n",
            "194437  [i, really, like, it, becasue, it, works, well...\n",
            "194438  [product, as, described, i, have, wasted, a, l...\n",
            "\n",
            "[194439 rows x 1 columns]\n",
            "                                          reviewText\n",
            "0  [they, look, good, and, stick, good, i, just, ...\n",
            "1  [these, stickers, work, like, the, review, say...\n",
            "2  [these, are, awesome, and, make, my, phone, lo...\n",
            "3  [item, arrived, in, great, time, and, was, in,...\n",
            "4  [awesome, stays, on, and, looks, great, can, b...\n"
          ],
          "name": "stdout"
        }
      ]
    },
    {
      "cell_type": "markdown",
      "metadata": {
        "id": "AApJIi98EzFX"
      },
      "source": [
        "*****"
      ]
    },
    {
      "cell_type": "code",
      "metadata": {
        "id": "uQbijdq__HEM",
        "colab": {
          "base_uri": "https://localhost:8080/"
        },
        "outputId": "72c4e606-e700-4588-9d2d-494ac03cf2fb"
      },
      "source": [
        "df['reviewText']= [' '.join(review) for review in df.reviewText]\n",
        "df['reviewText'].head()"
      ],
      "execution_count": null,
      "outputs": [
        {
          "output_type": "execute_result",
          "data": {
            "text/plain": [
              "0    they look good and stick good i just dont like...\n",
              "1    these stickers work like the review says they ...\n",
              "2    these are awesome and make my phone look so st...\n",
              "3    item arrived in great time and was in perfect ...\n",
              "4    awesome stays on and looks great can be used o...\n",
              "Name: reviewText, dtype: object"
            ]
          },
          "metadata": {
            "tags": []
          },
          "execution_count": 109
        }
      ]
    },
    {
      "cell_type": "markdown",
      "metadata": {
        "id": "Z4MRQXVXmBa5"
      },
      "source": [
        "## Task 19\n",
        "\n",
        "**For the following assignments we will use a tweets Data. Elon Musk Tweets-Until 4/6/17**\n",
        "\n",
        "For all the following tasks use Regular expressions\n",
        "\n",
        "Click on th [link](https://drive.google.com/file/d/1F-R8PQAp1pjinb9wXBAcfvTELIL7v63g/view?usp=sharing) download the csv and place it in your current working directory.\n",
        "\n",
        "**Read the elonmusk_tweets.csv and print head of the text column**"
      ]
    },
    {
      "cell_type": "code",
      "metadata": {
        "id": "m6QIvWWwmAS5",
        "colab": {
          "base_uri": "https://localhost:8080/",
          "height": 204
        },
        "outputId": "46cfe666-4cc9-4156-a274-3fad9b00b0cc"
      },
      "source": [
        "#Enter your code here\n",
        "import pandas as pd\n",
        "tweets_df = pd.read_csv('elonmusk_tweets.csv');\n",
        "tweets_df.head()"
      ],
      "execution_count": 21,
      "outputs": [
        {
          "output_type": "execute_result",
          "data": {
            "text/html": [
              "<div>\n",
              "<style scoped>\n",
              "    .dataframe tbody tr th:only-of-type {\n",
              "        vertical-align: middle;\n",
              "    }\n",
              "\n",
              "    .dataframe tbody tr th {\n",
              "        vertical-align: top;\n",
              "    }\n",
              "\n",
              "    .dataframe thead th {\n",
              "        text-align: right;\n",
              "    }\n",
              "</style>\n",
              "<table border=\"1\" class=\"dataframe\">\n",
              "  <thead>\n",
              "    <tr style=\"text-align: right;\">\n",
              "      <th></th>\n",
              "      <th>id</th>\n",
              "      <th>created_at</th>\n",
              "      <th>text</th>\n",
              "    </tr>\n",
              "  </thead>\n",
              "  <tbody>\n",
              "    <tr>\n",
              "      <th>0</th>\n",
              "      <td>849636868052275200</td>\n",
              "      <td>2017-04-05 14:56:29</td>\n",
              "      <td>b'And so the robots spared humanity ... https:...</td>\n",
              "    </tr>\n",
              "    <tr>\n",
              "      <th>1</th>\n",
              "      <td>848988730585096192</td>\n",
              "      <td>2017-04-03 20:01:01</td>\n",
              "      <td>b\"@ForIn2020 @waltmossberg @mims @defcon_5 Exa...</td>\n",
              "    </tr>\n",
              "    <tr>\n",
              "      <th>2</th>\n",
              "      <td>848943072423497728</td>\n",
              "      <td>2017-04-03 16:59:35</td>\n",
              "      <td>b'@waltmossberg @mims @defcon_5 Et tu, Walt?'</td>\n",
              "    </tr>\n",
              "    <tr>\n",
              "      <th>3</th>\n",
              "      <td>848935705057280001</td>\n",
              "      <td>2017-04-03 16:30:19</td>\n",
              "      <td>b'Stormy weather in Shortville ...'</td>\n",
              "    </tr>\n",
              "    <tr>\n",
              "      <th>4</th>\n",
              "      <td>848416049573658624</td>\n",
              "      <td>2017-04-02 06:05:23</td>\n",
              "      <td>b\"@DaveLeeBBC @verge Coal is dying due to nat ...</td>\n",
              "    </tr>\n",
              "  </tbody>\n",
              "</table>\n",
              "</div>"
            ],
            "text/plain": [
              "                   id  ...                                               text\n",
              "0  849636868052275200  ...  b'And so the robots spared humanity ... https:...\n",
              "1  848988730585096192  ...  b\"@ForIn2020 @waltmossberg @mims @defcon_5 Exa...\n",
              "2  848943072423497728  ...      b'@waltmossberg @mims @defcon_5 Et tu, Walt?'\n",
              "3  848935705057280001  ...                b'Stormy weather in Shortville ...'\n",
              "4  848416049573658624  ...  b\"@DaveLeeBBC @verge Coal is dying due to nat ...\n",
              "\n",
              "[5 rows x 3 columns]"
            ]
          },
          "metadata": {
            "tags": []
          },
          "execution_count": 21
        }
      ]
    },
    {
      "cell_type": "markdown",
      "metadata": {
        "id": "JOp61rIqvma-"
      },
      "source": [
        "## Task 20\n",
        "\n",
        "`str = '...' literals = a sequence of Unicode characters`<br>\n",
        "`bytes = b'...' literals = a sequence of octets (integers between 0 and 255)`**\n",
        "\n",
        "**You can see that every tweets are expressed as bytes literals inside b' '. Convert it to python string i.e. unicode string or Make use of regex to extract the string between `b'` and `'`**"
      ]
    },
    {
      "cell_type": "code",
      "metadata": {
        "id": "4vUfd9X9u9c0",
        "colab": {
          "base_uri": "https://localhost:8080/",
          "height": 204
        },
        "outputId": "dbbc5804-c2a4-4699-f48a-37fedc2984b7"
      },
      "source": [
        "#Enter your code here\n",
        "for i in range(len(tweets_df)) :\n",
        "    byteText = tweets_df.iloc[i,2]\n",
        "    text =  byteText[2:-1]\n",
        "    tweets_df.iloc[i,2] = text\n",
        "tweets_df.head()"
      ],
      "execution_count": null,
      "outputs": [
        {
          "output_type": "execute_result",
          "data": {
            "text/html": [
              "<div>\n",
              "<style scoped>\n",
              "    .dataframe tbody tr th:only-of-type {\n",
              "        vertical-align: middle;\n",
              "    }\n",
              "\n",
              "    .dataframe tbody tr th {\n",
              "        vertical-align: top;\n",
              "    }\n",
              "\n",
              "    .dataframe thead th {\n",
              "        text-align: right;\n",
              "    }\n",
              "</style>\n",
              "<table border=\"1\" class=\"dataframe\">\n",
              "  <thead>\n",
              "    <tr style=\"text-align: right;\">\n",
              "      <th></th>\n",
              "      <th>id</th>\n",
              "      <th>created_at</th>\n",
              "      <th>text</th>\n",
              "    </tr>\n",
              "  </thead>\n",
              "  <tbody>\n",
              "    <tr>\n",
              "      <th>0</th>\n",
              "      <td>849636868052275200</td>\n",
              "      <td>2017-04-05 14:56:29</td>\n",
              "      <td>And so the robots spared humanity ... https://...</td>\n",
              "    </tr>\n",
              "    <tr>\n",
              "      <th>1</th>\n",
              "      <td>848988730585096192</td>\n",
              "      <td>2017-04-03 20:01:01</td>\n",
              "      <td>@ForIn2020 @waltmossberg @mims @defcon_5 Exact...</td>\n",
              "    </tr>\n",
              "    <tr>\n",
              "      <th>2</th>\n",
              "      <td>848943072423497728</td>\n",
              "      <td>2017-04-03 16:59:35</td>\n",
              "      <td>@waltmossberg @mims @defcon_5 Et tu, Walt?</td>\n",
              "    </tr>\n",
              "    <tr>\n",
              "      <th>3</th>\n",
              "      <td>848935705057280001</td>\n",
              "      <td>2017-04-03 16:30:19</td>\n",
              "      <td>Stormy weather in Shortville ...</td>\n",
              "    </tr>\n",
              "    <tr>\n",
              "      <th>4</th>\n",
              "      <td>848416049573658624</td>\n",
              "      <td>2017-04-02 06:05:23</td>\n",
              "      <td>@DaveLeeBBC @verge Coal is dying due to nat ga...</td>\n",
              "    </tr>\n",
              "  </tbody>\n",
              "</table>\n",
              "</div>"
            ],
            "text/plain": [
              "                   id  ...                                               text\n",
              "0  849636868052275200  ...  And so the robots spared humanity ... https://...\n",
              "1  848988730585096192  ...  @ForIn2020 @waltmossberg @mims @defcon_5 Exact...\n",
              "2  848943072423497728  ...         @waltmossberg @mims @defcon_5 Et tu, Walt?\n",
              "3  848935705057280001  ...                   Stormy weather in Shortville ...\n",
              "4  848416049573658624  ...  @DaveLeeBBC @verge Coal is dying due to nat ga...\n",
              "\n",
              "[5 rows x 3 columns]"
            ]
          },
          "metadata": {
            "tags": []
          },
          "execution_count": 24
        }
      ]
    },
    {
      "cell_type": "markdown",
      "metadata": {
        "id": "qvZRj2RPxVmx"
      },
      "source": [
        "## Task 21\n",
        "\n",
        "**Extract all the links from the tweets and put it in a lists naming it tweets_links. After Extracting print first five links and total number of links.**"
      ]
    },
    {
      "cell_type": "code",
      "metadata": {
        "id": "X6wsf_cXxRJM",
        "colab": {
          "base_uri": "https://localhost:8080/"
        },
        "outputId": "267a0cc8-a296-4727-b6c0-709be369b49d"
      },
      "source": [
        "#Enter your code here\n",
        "import re\n",
        "tweet_links = []\n",
        "for i in range(len(tweets_df)) :\n",
        "    text = tweets_df.iloc[i,2]\n",
        "    matches = re.findall(r'http.*',text)\n",
        "    if matches :\n",
        "        for match in matches :\n",
        "            tweet_links.append(match);\n",
        "print(tweet_links[0:5])\n",
        "print(\"Number of links = \" + str(len(tweet_links)))\n"
      ],
      "execution_count": null,
      "outputs": [
        {
          "output_type": "stream",
          "text": [
            "['https://t.co/v7JUJQWfCv', 'https://t.co/qQcTqkzgMl', 'https://t.co\\\\xe2\\\\x80\\\\xa6', 'https://t.co/68nMJkiPsC', 'https://t.co/XtgQGwJ21D']\n",
            "Number of links = 1105\n"
          ],
          "name": "stdout"
        }
      ]
    },
    {
      "cell_type": "markdown",
      "metadata": {
        "id": "et6HtFj80Yfu"
      },
      "source": [
        "## Task 22\n",
        "\n",
        "**Extract all the @mentions from the tweets and put it in a lists naming it tweets_mentions. After Extracting print first five mentions and total number of mentions.**"
      ]
    },
    {
      "cell_type": "code",
      "metadata": {
        "id": "EMKRMAbp1hsA",
        "colab": {
          "base_uri": "https://localhost:8080/"
        },
        "outputId": "2a65f057-f42e-4036-a667-0c6f35b3dbde"
      },
      "source": [
        "#Enter your code here\n",
        "#Enter your code here\n",
        "import re\n",
        "tweet_mentions = []\n",
        "for i in range(len(tweets_df)) :\n",
        "    text = tweets_df.iloc[i,2]\n",
        "    matches = re.findall(r'@\\w+',text)\n",
        "    if matches :\n",
        "        for match in matches :\n",
        "            tweet_mentions.append(match);\n",
        "print(tweet_mentions[0:5])\n",
        "print(\"Number of Mentions = \" + str(len(tweet_mentions)))"
      ],
      "execution_count": null,
      "outputs": [
        {
          "output_type": "stream",
          "text": [
            "['@ForIn2020', '@waltmossberg', '@mims', '@defcon_5', '@waltmossberg']\n",
            "Number of Mentions = 2277\n"
          ],
          "name": "stdout"
        }
      ]
    },
    {
      "cell_type": "markdown",
      "metadata": {
        "id": "y5EYQ_a62DIY"
      },
      "source": [
        "## Task 23\n",
        "\n",
        "**Extract all the #Hashtags from the tweets and put it in a lists naming it tweets_hastags. After Extracting print first five hastags and total number of hastags.**"
      ]
    },
    {
      "cell_type": "code",
      "metadata": {
        "id": "tKjTP6J22A_h",
        "colab": {
          "base_uri": "https://localhost:8080/"
        },
        "outputId": "c441f002-03a4-4bea-d329-f24031599a96"
      },
      "source": [
        "#Enter your code here\n",
        "#Enter your code here\n",
        "#Enter your code here\n",
        "import re\n",
        "tweet_hashtags = []\n",
        "for i in range(len(tweets_df)) :\n",
        "    text = tweets_df.iloc[i,2]\n",
        "    matches = re.findall(r'#[^\\s]*',text)\n",
        "    if matches :\n",
        "        for match in matches :\n",
        "            tweet_hashtags.append(match);\n",
        "print(tweet_hashtags[0:5])\n",
        "print(\"Number of Hashtags = \" + str(len(tweet_hashtags)))"
      ],
      "execution_count": null,
      "outputs": [
        {
          "output_type": "stream",
          "text": [
            "['#%*&gt;', '#Dragon', '#breakapod', '#IridiumNEXT', '#NEXTevolutio\\\\xe2\\\\x80\\\\xa6']\n",
            "Number of Hashtags = 155\n"
          ],
          "name": "stdout"
        }
      ]
    },
    {
      "cell_type": "markdown",
      "metadata": {
        "id": "CGJhjlVW2mjQ"
      },
      "source": [
        "## Task 24\n",
        "\n",
        "**Remove all the links , hastags and mentions from the clean_tweets and overwrite it. After done cleaning print the head() of the clean data.**"
      ]
    },
    {
      "cell_type": "code",
      "metadata": {
        "id": "rFngLIeY2gDA",
        "colab": {
          "base_uri": "https://localhost:8080/",
          "height": 204
        },
        "outputId": "63e03ceb-8b9e-414b-ea9b-bf20fe76ee00"
      },
      "source": [
        "#Enter your code here\n",
        "for i in range(len(tweets_df)) :\n",
        "    text = tweets_df.iloc[i,2]\n",
        "    words = text.split()\n",
        "    for word in words:\n",
        "        if word in tweet_links :\n",
        "            words.remove(word)\n",
        "        if word in tweet_mentions :\n",
        "            words.remove(word)\n",
        "        if word in tweet_hashtags :\n",
        "            words.remove(word)\n",
        "    text = ' '.join(words)\n",
        "    tweets_df.iloc[i,2] = text\n",
        "tweets_df.head()\n"
      ],
      "execution_count": null,
      "outputs": [
        {
          "output_type": "execute_result",
          "data": {
            "text/html": [
              "<div>\n",
              "<style scoped>\n",
              "    .dataframe tbody tr th:only-of-type {\n",
              "        vertical-align: middle;\n",
              "    }\n",
              "\n",
              "    .dataframe tbody tr th {\n",
              "        vertical-align: top;\n",
              "    }\n",
              "\n",
              "    .dataframe thead th {\n",
              "        text-align: right;\n",
              "    }\n",
              "</style>\n",
              "<table border=\"1\" class=\"dataframe\">\n",
              "  <thead>\n",
              "    <tr style=\"text-align: right;\">\n",
              "      <th></th>\n",
              "      <th>id</th>\n",
              "      <th>created_at</th>\n",
              "      <th>text</th>\n",
              "    </tr>\n",
              "  </thead>\n",
              "  <tbody>\n",
              "    <tr>\n",
              "      <th>0</th>\n",
              "      <td>849636868052275200</td>\n",
              "      <td>2017-04-05 14:56:29</td>\n",
              "      <td>And so the robots spared humanity ...</td>\n",
              "    </tr>\n",
              "    <tr>\n",
              "      <th>1</th>\n",
              "      <td>848988730585096192</td>\n",
              "      <td>2017-04-03 20:01:01</td>\n",
              "      <td>Exactly. Tesla is absurdly overvalued if based...</td>\n",
              "    </tr>\n",
              "    <tr>\n",
              "      <th>2</th>\n",
              "      <td>848943072423497728</td>\n",
              "      <td>2017-04-03 16:59:35</td>\n",
              "      <td>Et tu, Walt?</td>\n",
              "    </tr>\n",
              "    <tr>\n",
              "      <th>3</th>\n",
              "      <td>848935705057280001</td>\n",
              "      <td>2017-04-03 16:30:19</td>\n",
              "      <td>Stormy weather in Shortville ...</td>\n",
              "    </tr>\n",
              "    <tr>\n",
              "      <th>4</th>\n",
              "      <td>848416049573658624</td>\n",
              "      <td>2017-04-02 06:05:23</td>\n",
              "      <td>Coal is dying due to nat gas fracking. It's ba...</td>\n",
              "    </tr>\n",
              "  </tbody>\n",
              "</table>\n",
              "</div>"
            ],
            "text/plain": [
              "                   id  ...                                               text\n",
              "0  849636868052275200  ...              And so the robots spared humanity ...\n",
              "1  848988730585096192  ...  Exactly. Tesla is absurdly overvalued if based...\n",
              "2  848943072423497728  ...                                       Et tu, Walt?\n",
              "3  848935705057280001  ...                   Stormy weather in Shortville ...\n",
              "4  848416049573658624  ...  Coal is dying due to nat gas fracking. It's ba...\n",
              "\n",
              "[5 rows x 3 columns]"
            ]
          },
          "metadata": {
            "tags": []
          },
          "execution_count": 46
        }
      ]
    }
  ]
}